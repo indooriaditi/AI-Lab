{
  "nbformat": 4,
  "nbformat_minor": 0,
  "metadata": {
    "colab": {
      "name": "AI-INF&UNINF.ipynb",
      "provenance": [],
      "collapsed_sections": []
    },
    "kernelspec": {
      "name": "python3",
      "display_name": "Python 3"
    }
  },
  "cells": [
    {
      "cell_type": "markdown",
      "metadata": {
        "id": "Hmi2eEV7Yc5S"
      },
      "source": [
        "# UNINFORMED SEARCH ALGORITHMS"
      ]
    },
    {
      "cell_type": "markdown",
      "metadata": {
        "id": "NOSeY8ozfAok"
      },
      "source": [
        "**BREADTH FIRST SEARCH**-\n",
        "Breadth First Traversal (or Search) for a graph is similar to Breadth First Traversal of a tree. The only catch here is, unlike trees, graphs may contain cycles, so we may come to the same node again. To avoid processing a node more than once, we use a boolean visited array. For simplicity, it is assumed that all vertices are reachable from the starting vertex. "
      ]
    },
    {
      "cell_type": "code",
      "metadata": {
        "colab": {
          "base_uri": "https://localhost:8080/"
        },
        "id": "y_gs-N3sJ0G4",
        "outputId": "155eb824-d925-4a85-833f-633072e1de0b"
      },
      "source": [
        "# from a given source vertex. BFS(int s)\n",
        "# traverses vertices reachable from s.\n",
        "from collections import defaultdict\n",
        " \n",
        "#class Graph representing a directed graph\n",
        "# using adjacency list representation\n",
        "class Graph:\n",
        " \n",
        "    # Constructor\n",
        "    def __init__(self):\n",
        " \n",
        "        # dictionary for storing graph\n",
        "        self.graph = defaultdict(list)\n",
        " \n",
        "    # adding an edge to graph\n",
        "    def addEdge(self,u,v):\n",
        "        self.graph[u].append(v)\n",
        " \n",
        "    # Function to print a BFS of graph\n",
        "    def BFS(self, s):\n",
        " \n",
        "        # Mark all the vertices as not visited\n",
        "        visited = [False] * (max(self.graph) + 1)\n",
        " \n",
        "        # Creating a queue for BFS\n",
        "        queue = []\n",
        " \n",
        "        # First Mark the source node as \n",
        "        # visited and enqueue it\n",
        "        queue.append(s)\n",
        "        visited[s] = True\n",
        " \n",
        "        while queue:\n",
        " \n",
        "            # Dequeue a vertex from \n",
        "            # queue and print it\n",
        "            s = queue.pop(0)\n",
        "            print (s, end = \" \")\n",
        " \n",
        "            # Get all adjacent vertices of the\n",
        "            # dequeued vertex s. If a adjacent\n",
        "            # has not been visited, then mark it\n",
        "            # visited and enqueue it\n",
        "            for i in self.graph[s]:\n",
        "                if visited[i] == False:\n",
        "                    queue.append(i)\n",
        "                    visited[i] = True\n",
        " \n",
        "# Creating the graph\n",
        "g = Graph()\n",
        "g.addEdge(0, 1)\n",
        "g.addEdge(0, 2)\n",
        "g.addEdge(1, 2)\n",
        "g.addEdge(2, 0)\n",
        "g.addEdge(2, 3)\n",
        "g.addEdge(3, 3)\n",
        " \n",
        "print (\"Following is Breadth First Traversal\"\n",
        "                  \" (starting from vertex 2)\")\n",
        "g.BFS(2)"
      ],
      "execution_count": null,
      "outputs": [
        {
          "output_type": "stream",
          "text": [
            "Following is Breadth First Traversal (starting from vertex 2)\n",
            "2 0 3 1 "
          ],
          "name": "stdout"
        }
      ]
    },
    {
      "cell_type": "markdown",
      "metadata": {
        "id": "94o4MZtxKMNW"
      },
      "source": [
        "**DEPTH FIRST SEARCH**-\n",
        "Depth First Traversal (or Search) for a graph is similar to Depth First Traversal of a tree. The only difference here is, unlike trees, graphs may contain cycles, a node may be visited twice. To avoid processing a node more than once, use a boolean visited array. "
      ]
    },
    {
      "cell_type": "code",
      "metadata": {
        "colab": {
          "base_uri": "https://localhost:8080/"
        },
        "id": "GCTpPmjmKKqY",
        "outputId": "27db2bc0-a5c7-490b-bb3e-3b0dcb627c99"
      },
      "source": [
        "from collections import defaultdict\n",
        " \n",
        "#class Graph represents a directed graph using\n",
        "# adjacency list representation \n",
        "class Graph:\n",
        " \n",
        "    # Constructor\n",
        "    def __init__(self):\n",
        " \n",
        "        #dictionary to store graph\n",
        "        self.graph = defaultdict(list)\n",
        " \n",
        "    # adding an edge to graph\n",
        "    def addEdge(self, u, v):\n",
        "        self.graph[u].append(v)\n",
        " \n",
        "    # A function used by DFS\n",
        "    def DFSUtil(self, v, visited):\n",
        " \n",
        "        # Mark the current node as visited\n",
        "        # and print it\n",
        "        visited.add(v)\n",
        "        print(v, end=' ')\n",
        " \n",
        "        # Recur for all the vertices\n",
        "        # adjacent to this vertex\n",
        "        for neighbour in self.graph[v]:\n",
        "            if neighbour not in visited:\n",
        "                self.DFSUtil(neighbour, visited)\n",
        "     # The function to do DFS traversal. It uses\n",
        "    # recursive DFSUtil()\n",
        "    def DFS(self, v):\n",
        " \n",
        "        # Creating a set for storing visited vertices\n",
        "        visited = set()\n",
        " \n",
        "        # Call the recursive helper function\n",
        "        # to print DFS traversal\n",
        "        self.DFSUtil(v, visited)\n",
        " \n",
        "# Create the graph\n",
        "g = Graph()\n",
        "g.addEdge(0, 1)\n",
        "g.addEdge(0, 2)\n",
        "g.addEdge(1, 2)\n",
        "g.addEdge(2, 0)\n",
        "g.addEdge(2, 3)\n",
        "g.addEdge(3, 3)\n",
        " \n",
        "print(\"Following is DFS from (starting from vertex 2)\")\n",
        "g.DFS(2)"
      ],
      "execution_count": null,
      "outputs": [
        {
          "output_type": "stream",
          "text": [
            "Following is DFS from (starting from vertex 2)\n",
            "2 0 1 3 "
          ],
          "name": "stdout"
        }
      ]
    },
    {
      "cell_type": "markdown",
      "metadata": {
        "id": "3PYKqKHSK7Lz"
      },
      "source": [
        "**UNIFORM COST SEARCH**-\n",
        "Uniform-Cost Search is a variant of Dijikstra’s algorithm. Here, instead of inserting all vertices into a priority queue, we insert only source, then one by one insert when needed. In every step, we check if the item is already in priority queue (using visited array). If yes, we perform decrease key, else we insert it. "
      ]
    },
    {
      "cell_type": "code",
      "metadata": {
        "colab": {
          "base_uri": "https://localhost:8080/"
        },
        "id": "KcNSWirCKmOm",
        "outputId": "778dac97-8af4-45c2-a7a1-ea54980f89f7"
      },
      "source": [
        "# This returns the minimum cost in a vector( if\n",
        "# there are multiple goal states)\n",
        "def  uniform_cost_search(goal, start):\n",
        "     \n",
        "    # minimum cost upto\n",
        "    # goal state from starting\n",
        "    global graph,cost\n",
        "    answer = []\n",
        " \n",
        "    # creating a priority queue\n",
        "    queue = []\n",
        " \n",
        "    # set the answer vector to max value\n",
        "    for i in range(len(goal)):\n",
        "        answer.append(10**8)\n",
        " \n",
        "    # insert the starting index\n",
        "    queue.append([0, start])\n",
        " \n",
        "    # creating a map to store visited node\n",
        "    visited = {}\n",
        " \n",
        "    # initializing count to zero\n",
        "    count = 0\n",
        " \n",
        "    # checking if the queue is not empty\n",
        "    while (len(queue) > 0):\n",
        " \n",
        "        # get the top element of the queue\n",
        "        queue = sorted(queue)\n",
        "        p = queue[-1]\n",
        " \n",
        "        # pop the element\n",
        "        del queue[-1]\n",
        " \n",
        "        # get the original value\n",
        "        p[0] *= -1\n",
        " \n",
        "        # check if the element is part of\n",
        "        # the goal list\n",
        "        if (p[1] in goal):\n",
        " \n",
        "            # get the position\n",
        "            index = goal.index(p[1])\n",
        " \n",
        "            # if a new goal is reached\n",
        "            if (answer[index] == 10**8):\n",
        "                count += 1\n",
        " \n",
        "            # if the cost is less\n",
        "            if (answer[index] > p[0]):\n",
        "                answer[index] = p[0]\n",
        " \n",
        "            # pop the element\n",
        "            del queue[-1]\n",
        " \n",
        "            queue = sorted(queue)\n",
        "            if (count == len(goal)):\n",
        "                return answer\n",
        " \n",
        "        # check for the non visited nodes\n",
        "        # which are adjacent to present node\n",
        "        if (p[1] not in visited):\n",
        "            for i in range(len(graph[p[1]])):\n",
        " \n",
        "                # value is multiplied by -1 so that\n",
        "                # least priority is at the top\n",
        "                queue.append( [(p[0] + cost[(p[1], graph[p[1]][i])])* -1, graph[p[1]][i]])\n",
        " \n",
        "        # mark as visited\n",
        "        visited[p[1]] = 1\n",
        " \n",
        "    return answer\n",
        " \n",
        "# main function\n",
        "if __name__ == '__main__':\n",
        "     \n",
        "    # create the graph\n",
        "    graph,cost = [[] for i in range(8)],{}\n",
        " \n",
        "    # add edges\n",
        "    graph[0].append(1)\n",
        "    graph[0].append(3)\n",
        "    graph[3].append(1)\n",
        "    graph[3].append(6)\n",
        "    graph[3].append(4)\n",
        "    graph[1].append(6)\n",
        "    graph[4].append(2)\n",
        "    graph[4].append(5)\n",
        "    graph[2].append(1)\n",
        "    graph[5].append(2)\n",
        "    graph[5].append(6)\n",
        "    graph[6].append(4)\n",
        " \n",
        "    # adding the cost\n",
        "    cost[(0, 1)] = 2\n",
        "    cost[(0, 3)] = 5\n",
        "    cost[(1, 6)] = 1\n",
        "    cost[(3, 1)] = 5\n",
        "    cost[(3, 6)] = 6\n",
        "    cost[(3, 4)] = 2\n",
        "    cost[(2, 1)] = 4\n",
        "    cost[(4, 2)] = 4\n",
        "    cost[(4, 5)] = 3\n",
        "    cost[(5, 2)] = 6\n",
        "    cost[(5, 6)] = 3\n",
        "    cost[(6, 4)] = 7\n",
        " \n",
        "    # goal state\n",
        "    goal = []\n",
        " \n",
        "    # set the goal\n",
        "    # there can be multiple goal states\n",
        "    goal.append(6)\n",
        " \n",
        "    # get the answer\n",
        "    answer = uniform_cost_search(goal, 0)\n",
        " \n",
        "    # print the answer\n",
        "    print(\"Minimum cost from 0 to 6 is = \",answer[0])"
      ],
      "execution_count": null,
      "outputs": [
        {
          "output_type": "stream",
          "text": [
            "Minimum cost from 0 to 6 is =  3\n"
          ],
          "name": "stdout"
        }
      ]
    },
    {
      "cell_type": "markdown",
      "metadata": {
        "id": "2cv0i662L1ZE"
      },
      "source": [
        "**DEPTH LIMITED SEARCH**-\n",
        "Depth limited search is the new search algorithm for uninformed search. The unbounded tree problem happens to appear in the depth-first search algorithm, and it can be fixed by imposing a boundary or a limit to the depth of the search domain. We will say that this limit as the depth limit, making the DFS search strategy more refined and organized into a finite loop."
      ]
    },
    {
      "cell_type": "code",
      "metadata": {
        "colab": {
          "base_uri": "https://localhost:8080/"
        },
        "id": "ZfZ-knqXL3il",
        "outputId": "458e6331-47cd-4dbd-cc7a-b6f25cac4161"
      },
      "source": [
        "ADJ = {}\n",
        "ADJ['S'] = ['2', '6']\n",
        "ADJ['2'] = ['S', '3']\n",
        "ADJ['3'] = ['2','8']\n",
        "ADJ['G'] = ['10']\n",
        "ADJ['6'] = ['S', '11']\n",
        "ADJ['8'] = ['3', '13']\n",
        "ADJ['10'] = ['G', '15']\n",
        "ADJ['11'] = ['6', '12']\n",
        "ADJ['12'] = ['11', '13', '17']\n",
        "ADJ['13'] = ['8', '12']\n",
        "ADJ['15'] = ['10', '20']\n",
        "ADJ['17'] = ['12','22']\n",
        "ADJ['19'] = ['20', '24']\n",
        "ADJ['20'] = ['15','19']\n",
        "ADJ['21'] = ['22']\n",
        "ADJ['22'] = ['17','21','23']\n",
        "ADJ['23'] = ['22', '24']\n",
        "ADJ['24'] = ['19','23']\n",
        "print (ADJ)\n",
        "# keeping track of all visited nodes\n",
        "visited = {str(i) : False for i in range(1,26)}\n",
        "visited['S'] = False\n",
        "visited['G'] = False\n",
        "\n",
        "def dls(start, goal):\n",
        "    depth = 0\n",
        "    limit = 200\n",
        "    OPEN=[]\n",
        "    CLOSED=[]\n",
        "    OPEN.append(start)\n",
        "    visited[\"S\"] = True\n",
        "    while OPEN != []: # Step 2\n",
        "        if depth<=limit:\n",
        "            current = OPEN.pop() \n",
        "            # visited[current] = False\n",
        "            if current == goal:\n",
        "                # CLOSED.append(current)\n",
        "                print(\"Goal Node Found\")\n",
        "                # print(CLOSED)\n",
        "                return True\n",
        "            else:\n",
        "                # CLOSED.append(current)\n",
        "                lst = successors(current)\n",
        "                for i in lst:\n",
        "                    # try to visit a node in future, if not already been to it\n",
        "                    if(not(visited[i])):\n",
        "                        OPEN.append(i)\n",
        "                        visited[i] = True\n",
        "                depth +=1\n",
        "\n",
        "        else:\n",
        "            print(\"Not found within depth limit\")\n",
        "            return False\n",
        "\n",
        "    return False"
      ],
      "execution_count": null,
      "outputs": [
        {
          "output_type": "stream",
          "text": [
            "{'S': ['2', '6'], '2': ['S', '3'], '3': ['2', '8'], 'G': ['10'], '6': ['S', '11'], '8': ['3', '13'], '10': ['G', '15'], '11': ['6', '12'], '12': ['11', '13', '17'], '13': ['8', '12'], '15': ['10', '20'], '17': ['12', '22'], '19': ['20', '24'], '20': ['15', '19'], '21': ['22'], '22': ['17', '21', '23'], '23': ['22', '24'], '24': ['19', '23']}\n"
          ],
          "name": "stdout"
        }
      ]
    },
    {
      "cell_type": "markdown",
      "metadata": {
        "id": "nXnELr0LMLJu"
      },
      "source": [
        "**ITERAVTIVE DEEPENING DEPTH FIRST SEARCH**-\n",
        "iterative deepening DFS (depth-first search) algorithm is used to find the shortest path from a start to a target node.\n",
        "Given a start node, this returns the node in the tree below the start node with the target value (or null if it doesn't exist)\n"
      ]
    },
    {
      "cell_type": "code",
      "metadata": {
        "colab": {
          "base_uri": "https://localhost:8080/"
        },
        "id": "dZLahrXTMO4N",
        "outputId": "cdafa27f-d9b9-4e38-c4ff-c7c503d90f8e"
      },
      "source": [
        "from collections import defaultdict \n",
        "\n",
        "# class Graph represents a directed graph using adjacency \n",
        "# list representation \n",
        "class Graph: \n",
        "\n",
        "\tdef __init__(self,vertices): \n",
        "\n",
        "\t\t# No. of vertices \n",
        "\t\tself.V = vertices \n",
        "\n",
        "\t\t# dictionary to store graph \n",
        "\t\tself.graph = defaultdict(list) \n",
        "\n",
        "\t# function to add an edge to graph \n",
        "\tdef addEdge(self,u,v): \n",
        "\t\tself.graph[u].append(v) \n",
        "\n",
        "\t# A function to perform a Depth-Limited search \n",
        "\t# from given source 'src' \n",
        "\tdef DLS(self,src,target,maxDepth): \n",
        "\n",
        "\t\tif src == target : return True\n",
        "\n",
        "\t\t# If maximum depth is reached, stop recursing. \n",
        "\t\tif maxDepth <= 0 : return False\n",
        "\n",
        "\t\t# Recur for all the vertices adjacent to this vertex \n",
        "\t\tfor i in self.graph[src]: \n",
        "\t\t\t\tif(self.DLS(i,target,maxDepth-1)): \n",
        "\t\t\t\t\treturn True\n",
        "\t\treturn False\n",
        "\n",
        "\t# IDDFS to search if target is reachable from v. \n",
        "\t# It uses recursive DLS() \n",
        "\tdef IDDFS(self,src, target, maxDepth): \n",
        "\n",
        "\t\t# Repeatedly depth-limit search till the \n",
        "\t\t# maximum depth \n",
        "\t\tfor i in range(maxDepth): \n",
        "\t\t\tif (self.DLS(src, target, i)): \n",
        "\t\t\t\treturn True\n",
        "\t\treturn False\n",
        "\n",
        "# Creating a graph\n",
        "g = Graph (7); \n",
        "g.addEdge(0, 1) \n",
        "g.addEdge(0, 2) \n",
        "g.addEdge(1, 3) \n",
        "g.addEdge(1, 4) \n",
        "g.addEdge(2, 5) \n",
        "g.addEdge(2, 6) \n",
        "\n",
        "target = 6; maxDepth = 3; src = 0\n",
        "\n",
        "if g.IDDFS(src, target, maxDepth) == True: \n",
        "\tprint (\"Target is reachable from source \" +\n",
        "\t\t\"within max depth\") \n",
        "else : \n",
        "\tprint (\"Target is NOT reachable from source \" +\n",
        "\t\t\"within max depth\") \n",
        "\n"
      ],
      "execution_count": null,
      "outputs": [
        {
          "output_type": "stream",
          "text": [
            "Target is reachable from source within max depth\n"
          ],
          "name": "stdout"
        }
      ]
    },
    {
      "cell_type": "markdown",
      "metadata": {
        "id": "jrvPz_gJMehV"
      },
      "source": [
        "**BIDIRECTIONAL SEARCH**-\n",
        "Bidirectional search replaces single search graph(which is likely to grow exponentially) with two smaller sub graphs – one starting from initial vertex and other starting from goal vertex. The search terminates when two graphs intersect.\n"
      ]
    },
    {
      "cell_type": "code",
      "metadata": {
        "colab": {
          "base_uri": "https://localhost:8080/"
        },
        "id": "2C5kuMk8MiQB",
        "outputId": "4b9ddb11-d676-4f52-b129-9492a52173a0"
      },
      "source": [
        "# Search to check path between two vertices\n",
        "\n",
        "# Class definition for node to\n",
        "# be added to graph\n",
        "class AdjacentNode:\n",
        "\t\n",
        "\tdef __init__(self, vertex):\n",
        "\t\t\n",
        "\t\tself.vertex = vertex\n",
        "\t\tself.next = None\n",
        "\n",
        "# BidirectionalSearch implementation\n",
        "class BidirectionalSearch:\n",
        "\t\n",
        "\tdef __init__(self, vertices):\n",
        "\t\t\n",
        "\t\t# Initialize vertices and\n",
        "\t\t# graph with vertices\n",
        "\t\tself.vertices = vertices\n",
        "\t\tself.graph = [None] * self.vertices\n",
        "\t\t\n",
        "\t\t# Initializing queue for forward \n",
        "\t\t# and backward search\n",
        "\t\tself.src_queue = list()\n",
        "\t\tself.dest_queue = list()\n",
        "\t\t\n",
        "\t\t# Initializing source and \n",
        "\t\t# destination visited nodes as False\n",
        "\t\tself.src_visited = [False] * self.vertices\n",
        "\t\tself.dest_visited = [False] * self.vertices\n",
        "\t\t\n",
        "\t\t# Initializing source and destination \n",
        "\t\t# parent nodes\n",
        "\t\tself.src_parent = [None] * self.vertices\n",
        "\t\tself.dest_parent = [None] * self.vertices\n",
        "\t\t\n",
        "\t# Function for adding undirected edge \n",
        "\tdef add_edge(self, src, dest):\n",
        "\t\t\n",
        "\t\t# Add edges to graph\n",
        "\t\t\n",
        "\t\t# Add source to destination\n",
        "\t\tnode = AdjacentNode(dest)\n",
        "\t\tnode.next = self.graph[src]\n",
        "\t\tself.graph[src] = node\n",
        "\n",
        "\t\t# Since graph is undirected add\n",
        "\t\t# destination to source\n",
        "\t\tnode = AdjacentNode(src)\n",
        "\t\tnode.next = self.graph[dest]\n",
        "\t\tself.graph[dest] = node\n",
        "\t\t\n",
        "\t# Function for Breadth First Search \n",
        "\tdef bfs(self, direction = 'forward'):\n",
        "\t\t\n",
        "\t\tif direction == 'forward':\n",
        "\t\t\t\n",
        "\t\t\t# BFS in forward direction\n",
        "\t\t\tcurrent = self.src_queue.pop(0)\n",
        "\t\t\tconnected_node = self.graph[current]\n",
        "\t\t\t\n",
        "\t\t\twhile connected_node:\n",
        "\t\t\t\tvertex = connected_node.vertex\n",
        "\t\t\t\t\n",
        "\t\t\t\tif not self.src_visited[vertex]:\n",
        "\t\t\t\t\tself.src_queue.append(vertex)\n",
        "\t\t\t\t\tself.src_visited[vertex] = True\n",
        "\t\t\t\t\tself.src_parent[vertex] = current\n",
        "\t\t\t\t\t\n",
        "\t\t\t\tconnected_node = connected_node.next\n",
        "\t\telse:\n",
        "\t\t\t\n",
        "\t\t\t# BFS in backward direction\n",
        "\t\t\tcurrent = self.dest_queue.pop(0)\n",
        "\t\t\tconnected_node = self.graph[current]\n",
        "\t\t\t\n",
        "\t\t\twhile connected_node:\n",
        "\t\t\t\tvertex = connected_node.vertex\n",
        "\t\t\t\t\n",
        "\t\t\t\tif not self.dest_visited[vertex]:\n",
        "\t\t\t\t\tself.dest_queue.append(vertex)\n",
        "\t\t\t\t\tself.dest_visited[vertex] = True\n",
        "\t\t\t\t\tself.dest_parent[vertex] = current\n",
        "\t\t\t\t\t\n",
        "\t\t\t\tconnected_node = connected_node.next\n",
        "\t\t\t\t\n",
        "\t# Check for intersecting vertex \n",
        "\tdef is_intersecting(self):\n",
        "\t\t\n",
        "\t\t# Returns intersecting node \n",
        "\t\t# if present else -1\n",
        "\t\tfor i in range(self.vertices):\n",
        "\t\t\tif (self.src_visited[i] and\n",
        "\t\t\t\tself.dest_visited[i]):\n",
        "\t\t\t\treturn i\n",
        "\t\t\t\t\n",
        "\t\treturn -1\n",
        "\n",
        "\t# Print the path from source to target \n",
        "\tdef print_path(self, intersecting_node, \n",
        "\t\t\t\tsrc, dest):\n",
        "\t\t\t\t\t\t\n",
        "\t\t# Print final path from \n",
        "\t\t# source to destination\n",
        "\t\tpath = list()\n",
        "\t\tpath.append(intersecting_node)\n",
        "\t\ti = intersecting_node\n",
        "\t\t\n",
        "\t\twhile i != src:\n",
        "\t\t\tpath.append(self.src_parent[i])\n",
        "\t\t\ti = self.src_parent[i]\n",
        "\t\t\t\n",
        "\t\tpath = path[::-1]\n",
        "\t\ti = intersecting_node\n",
        "\t\t\n",
        "\t\twhile i != dest:\n",
        "\t\t\tpath.append(self.dest_parent[i])\n",
        "\t\t\ti = self.dest_parent[i]\n",
        "\t\t\t\n",
        "\t\tprint(\"*****Path*****\")\n",
        "\t\tpath = list(map(str, path))\n",
        "\t\t\n",
        "\t\tprint(' '.join(path))\n",
        "\t\n",
        "\t# Function for bidirectional searching \n",
        "\tdef bidirectional_search(self, src, dest):\n",
        "\t\t\n",
        "\t\t# Add source to queue and mark \n",
        "\t\t# visited as True and add its\n",
        "\t\t# parent as -1\n",
        "\t\tself.src_queue.append(src)\n",
        "\t\tself.src_visited[src] = True\n",
        "\t\tself.src_parent[src] = -1\n",
        "\t\t\n",
        "\t\t# Add destination to queue and\n",
        "\t\t# mark visited as True and add \n",
        "\t\t# its parent as -1\n",
        "\t\tself.dest_queue.append(dest)\n",
        "\t\tself.dest_visited[dest] = True\n",
        "\t\tself.dest_parent[dest] = -1\n",
        "\n",
        "\t\twhile self.src_queue and self.dest_queue:\n",
        "\t\t\t\n",
        "\t\t\t# BFS in forward direction from\n",
        "\t\t\t# Source Vertex\n",
        "\t\t\tself.bfs(direction = 'forward')\n",
        "\t\t\t\n",
        "\t\t\t# BFS in reverse direction \n",
        "\t\t\t# from Destination Vertex\n",
        "\t\t\tself.bfs(direction = 'backward')\n",
        "\t\t\t\n",
        "\t\t\t# Check for intersecting vertex\n",
        "\t\t\tintersecting_node = self.is_intersecting()\n",
        "\t\t\t\n",
        "\t\t\t# If intersecting vertex exists\n",
        "\t\t\t# then path from source to \n",
        "\t\t\t# destination exists\n",
        "\t\t\tif intersecting_node != -1:\n",
        "\t\t\t\tprint(f\"Path exists between {src} and {dest}\")\n",
        "\t\t\t\tprint(f\"Intersection at : {intersecting_node}\")\n",
        "\t\t\t\tself.print_path(intersecting_node, \n",
        "\t\t\t\t\t\t\t\tsrc, dest)\n",
        "\t\t\t\texit(0)\n",
        "\t\treturn -1\n",
        "\n",
        "# Driver code\n",
        "if __name__ == '__main__':\n",
        "\t\n",
        "\t# Number of Vertices in graph\n",
        "\tn = 15\n",
        "\t\n",
        "\t# Source Vertex\n",
        "\tsrc = 0\n",
        "\t\n",
        "\t# Destination Vertex\n",
        "\tdest = 14\n",
        "\t\n",
        "\t# Create a graph\n",
        "\tgraph = BidirectionalSearch(n)\n",
        "\tgraph.add_edge(0, 4)\n",
        "\tgraph.add_edge(1, 4)\n",
        "\tgraph.add_edge(2, 5)\n",
        "\tgraph.add_edge(3, 5)\n",
        "\tgraph.add_edge(4, 6)\n",
        "\tgraph.add_edge(5, 6)\n",
        "\tgraph.add_edge(6, 7)\n",
        "\tgraph.add_edge(7, 8)\n",
        "\tgraph.add_edge(8, 9)\n",
        "\tgraph.add_edge(8, 10)\n",
        "\tgraph.add_edge(9, 11)\n",
        "\tgraph.add_edge(9, 12)\n",
        "\tgraph.add_edge(10, 13)\n",
        "\tgraph.add_edge(10, 14)\n",
        "\t\n",
        "\tout = graph.bidirectional_search(src, dest)\n",
        "\t\n",
        "\tif out == -1:\n",
        "\t\tprint(f\"Path does not exist between {src} and {dest}\")\n",
        "\n"
      ],
      "execution_count": null,
      "outputs": [
        {
          "output_type": "stream",
          "text": [
            "Path exists between 0 and 14\n",
            "Intersection at : 7\n",
            "*****Path*****\n",
            "0 4 6 7 8 10 14\n",
            "Path exists between 0 and 14\n",
            "Intersection at : 7\n",
            "*****Path*****\n",
            "0 4 6 7 8 10 14\n",
            "Path exists between 0 and 14\n",
            "Intersection at : 6\n",
            "*****Path*****\n",
            "0 4 6 7 8 10 14\n",
            "Path exists between 0 and 14\n",
            "Intersection at : 6\n",
            "*****Path*****\n",
            "0 4 6 7 8 10 14\n",
            "Path exists between 0 and 14\n",
            "Intersection at : 6\n",
            "*****Path*****\n",
            "0 4 6 7 8 10 14\n",
            "Path exists between 0 and 14\n",
            "Intersection at : 4\n",
            "*****Path*****\n",
            "0 4 6 7 8 10 14\n",
            "Path exists between 0 and 14\n",
            "Intersection at : 2\n",
            "*****Path*****\n",
            "0 4 6 5 2 5 6 7 8 10 14\n",
            "Path exists between 0 and 14\n",
            "Intersection at : 0\n",
            "*****Path*****\n",
            "0 4 6 7 8 10 14\n",
            "Path exists between 0 and 14\n",
            "Intersection at : 0\n",
            "*****Path*****\n",
            "0 4 6 7 8 10 14\n",
            "Path exists between 0 and 14\n",
            "Intersection at : 0\n",
            "*****Path*****\n",
            "0 4 6 7 8 10 14\n",
            "Path exists between 0 and 14\n",
            "Intersection at : 0\n",
            "*****Path*****\n",
            "0 4 6 7 8 10 14\n",
            "Path exists between 0 and 14\n",
            "Intersection at : 0\n",
            "*****Path*****\n",
            "0 4 6 7 8 10 14\n",
            "Path does not exist between 0 and 14\n"
          ],
          "name": "stdout"
        }
      ]
    },
    {
      "cell_type": "markdown",
      "metadata": {
        "id": "2BxlkbdvwnO3"
      },
      "source": [
        "# INFORMED SERACH ALGORITHMS"
      ]
    },
    {
      "cell_type": "markdown",
      "metadata": {
        "id": "DbFlsXeOCGN7"
      },
      "source": [
        "**BEST FIRST SEARCH**"
      ]
    },
    {
      "cell_type": "code",
      "metadata": {
        "colab": {
          "base_uri": "https://localhost:8080/"
        },
        "id": "GZ2DTdAFCFtS",
        "outputId": "5b558dc5-3e43-4f7b-9d33-dd32b280a4d3"
      },
      "source": [
        "from queue import PriorityQueue\n",
        "v = 14\n",
        "graph = [[] for i in range(v)]\n",
        " \n",
        "# Function For Implementing Best First Search\n",
        "# Gives output path having lowest cost\n",
        " \n",
        " \n",
        "def best_first_search(source, target, n):\n",
        "  visited = [0] * n\n",
        "  visited[0] = True\n",
        "  pq = PriorityQueue()\n",
        "  pq.put((0, source))\n",
        "  while pq.empty() == False:\n",
        "    u = pq.get()[1]\n",
        "    print(u, end=\" \")\n",
        "    if u == target:\n",
        "      break\n",
        "    for v, c in graph[u]:\n",
        "      if visited[v] == False:\n",
        "        visited[v] = True\n",
        "        pq.put((c, v))\n",
        "       # print(\"c,v\",c,v)\n",
        " \n",
        "# Function for adding edges to graph\n",
        " \n",
        " \n",
        "def addedge(x, y, cost):\n",
        "    graph[x].append((y, cost))\n",
        "    graph[y].append((x, cost))\n",
        " \n",
        " \n",
        "# The nodes shown in above example(by alphabets) are\n",
        "# implemented using integers addedge(x,y,cost);\n",
        "addedge(0, 1, 3)\n",
        "addedge(0, 2, 6)\n",
        "addedge(0, 3, 5)\n",
        "addedge(1, 4, 9)\n",
        "addedge(1, 5, 8)\n",
        "addedge(2, 6, 12)\n",
        "addedge(2, 7, 14)\n",
        "addedge(3, 8, 7)\n",
        "addedge(8, 9, 5)\n",
        "addedge(8, 10, 6)\n",
        "addedge(9, 11, 1)\n",
        "addedge(9, 12, 10)\n",
        "addedge(9, 13, 2)\n",
        " \n",
        "source = 0\n",
        "target = 9\n",
        "print(graph)\n",
        "print(v)\n",
        "best_first_search(source, target, v)"
      ],
      "execution_count": null,
      "outputs": [
        {
          "output_type": "stream",
          "text": [
            "[[(1, 3), (2, 6), (3, 5)], [(0, 3), (4, 9), (5, 8)], [(0, 6), (6, 12), (7, 14)], [(0, 5), (8, 7)], [(1, 9)], [(1, 8)], [(2, 12)], [(2, 14)], [(3, 7), (9, 5), (10, 6)], [(8, 5), (11, 1), (12, 10), (13, 2)], [(8, 6)], [(9, 1)], [(9, 10)], [(9, 2)]]\n",
            "14\n",
            "0 1 3 2 8 9 "
          ],
          "name": "stdout"
        }
      ]
    },
    {
      "cell_type": "markdown",
      "metadata": {
        "id": "47cBudJtwuI1"
      },
      "source": [
        "**HILL CLIMBING ALGORITHM**"
      ]
    },
    {
      "cell_type": "code",
      "metadata": {
        "colab": {
          "base_uri": "https://localhost:8080/"
        },
        "id": "SmbIkxt1xM5U",
        "outputId": "d730bf37-5254-483b-be20-41066b57916e"
      },
      "source": [
        "import random\n",
        "\n",
        "def randomSolution(tsp):\n",
        "    cities = list(range(len(tsp)))\n",
        "    solution = []\n",
        "\n",
        "    for i in range(len(tsp)):\n",
        "        randomCity = cities[random.randint(0, len(cities) - 1)]\n",
        "        solution.append(randomCity)\n",
        "        cities.remove(randomCity)\n",
        "\n",
        "    return solution\n",
        "\n",
        "def routeLength(tsp, solution):\n",
        "    routeLength = 0\n",
        "    for i in range(len(solution)):\n",
        "        routeLength += tsp[solution[i - 1]][solution[i]]\n",
        "    return routeLength\n",
        "\n",
        "def getNeighbours(solution):\n",
        "    neighbours = []\n",
        "    for i in range(len(solution)):\n",
        "        for j in range(i + 1, len(solution)):\n",
        "            neighbour = solution.copy()\n",
        "            neighbour[i] = solution[j]\n",
        "            neighbour[j] = solution[i]\n",
        "            neighbours.append(neighbour)\n",
        "    return neighbours\n",
        "\n",
        "def getBestNeighbour(tsp, neighbours):\n",
        "    bestRouteLength = routeLength(tsp, neighbours[0])\n",
        "    bestNeighbour = neighbours[0]\n",
        "    for neighbour in neighbours:\n",
        "        currentRouteLength = routeLength(tsp, neighbour)\n",
        "        if currentRouteLength < bestRouteLength:\n",
        "            bestRouteLength = currentRouteLength\n",
        "            bestNeighbour = neighbour\n",
        "    return bestNeighbour, bestRouteLength\n",
        "\n",
        "def hillClimbing(tsp):\n",
        "    currentSolution = randomSolution(tsp)\n",
        "    currentRouteLength = routeLength(tsp, currentSolution)\n",
        "    neighbours = getNeighbours(currentSolution)\n",
        "    bestNeighbour, bestNeighbourRouteLength = getBestNeighbour(tsp, neighbours)\n",
        "\n",
        "    while bestNeighbourRouteLength < currentRouteLength:\n",
        "        currentSolution = bestNeighbour\n",
        "        currentRouteLength = bestNeighbourRouteLength\n",
        "        neighbours = getNeighbours(currentSolution)\n",
        "        bestNeighbour, bestNeighbourRouteLength = getBestNeighbour(tsp, neighbours)\n",
        "\n",
        "    return currentSolution, currentRouteLength\n",
        "\n",
        "def main():\n",
        "    tsp = [\n",
        "        [0, 400, 500, 300],\n",
        "        [400, 0, 300, 500],\n",
        "        [500, 300, 0, 400],\n",
        "        [300, 500, 400, 0]\n",
        "    ]\n",
        "\n",
        "    print(hillClimbing(tsp))\n",
        "\n",
        "if __name__ == \"__main__\":\n",
        "    main()\n",
        "\n"
      ],
      "execution_count": null,
      "outputs": [
        {
          "output_type": "stream",
          "text": [
            "([3, 2, 1, 0], 1400)\n"
          ],
          "name": "stdout"
        }
      ]
    },
    {
      "cell_type": "markdown",
      "metadata": {
        "id": "4-wykj9GxXyr"
      },
      "source": [
        " **A* ALGORITHM** "
      ]
    },
    {
      "cell_type": "code",
      "metadata": {
        "colab": {
          "base_uri": "https://localhost:8080/"
        },
        "id": "8iHLap3lxpz8",
        "outputId": "5c90c620-93f6-480b-ffe5-489023eb4c29"
      },
      "source": [
        "class Node():\n",
        "    def __init__(self, parent=None, position=None):\n",
        "        self.parent = parent\n",
        "        self.position = position\n",
        "        self.g = 0\n",
        "        self.h = 0\n",
        "        self.f = 0\n",
        "    def __eq__(self, other):\n",
        "        return self.position == other.position\n",
        "def astar(maze, start, end):\n",
        "    start_node = Node(None, start)\n",
        "    start_node.g = start_node.h = start_node.f = 0\n",
        "    end_node = Node(None, end)\n",
        "    end_node.g = end_node.h = end_node.f = 0\n",
        "    open_list = []\n",
        "    closed_list = []\n",
        "    open_list.append(start_node)\n",
        "    while len(open_list) > 0:\n",
        "        current_node = open_list[0]\n",
        "        current_index = 0\n",
        "        for index, item in enumerate(open_list):\n",
        "            if item.f < current_node.f:\n",
        "                current_node = item\n",
        "                current_index = index\n",
        "        open_list.pop(current_index)\n",
        "        closed_list.append(current_node)\n",
        "        if current_node == end_node:\n",
        "            path = []\n",
        "            current = current_node\n",
        "            while current is not None:\n",
        "                path.append(current.position)\n",
        "                current = current.parent\n",
        "            return path[::-1]\n",
        "        children = []\n",
        "        for new_position in [(0, -1), (0, 1), (-1, 0), (1, 0), (-1, -1), (-1, 1), (1, -1), (1, 1)]:\n",
        "            node_position = (current_node.position[0] + new_position[0], current_node.position[1] + new_position[1])\n",
        "            if node_position[0] > (len(maze) - 1) or node_position[0] < 0 or node_position[1] > (\n",
        "                    len(maze[len(maze) - 1]) - 1) or node_position[1] < 0:\n",
        "                continue\n",
        "            if maze[node_position[0]][node_position[1]] != 0:\n",
        "                continue\n",
        "            new_node = Node(current_node, node_position)\n",
        "            children.append(new_node)\n",
        "        for child in children:\n",
        "            for closed_child in closed_list:\n",
        "                if child == closed_child:\n",
        "                    continue\n",
        "            child.g = current_node.g + 1\n",
        "            child.h = ((child.position[0] - end_node.position[0]) ** 2) + (\n",
        "                    (child.position[1] - end_node.position[1]) ** 2)\n",
        "            child.f = child.g + child.h\n",
        "            for open_node in open_list:\n",
        "                if child == open_node and child.g > open_node.g:\n",
        "                    continue\n",
        "            open_list.append(child)\n",
        "def main():\n",
        "    maze = [[0, 0, 0, 0, 1, 0],\n",
        "            [0, 0, 0, 0, 1, 0],\n",
        "            [0, 0, 0, 0, 1, 0],\n",
        "            [0, 0, 0, 0, 1, 0],\n",
        "            [0, 0, 0, 0, 1, 0],\n",
        "            [0, 0, 0, 0, 0, 0]]\n",
        "    graph = [[0, 1, 0, 0, 0, 0],\n",
        "             [1, 0, 1, 0, 1, 0],\n",
        "             [0, 1, 0, 0, 0, 1],\n",
        "             [0, 0, 0, 0, 1, 0],\n",
        "             [0, 1, 0, 1, 0, 0],\n",
        "             [0, 0, 1, 0, 0, 0]\n",
        "             ]\n",
        "    start = (0, 0)\n",
        "    end = (5, 5)\n",
        "    end1 = (5, 5)\n",
        "    path = astar(maze, start, end)\n",
        "    print(path)\n",
        "    path1 = astar(graph, start, end1)\n",
        "    print(path1)\n",
        "if __name__ == '__main__':\n",
        "    main()"
      ],
      "execution_count": null,
      "outputs": [
        {
          "output_type": "stream",
          "text": [
            "[(0, 0), (1, 1), (2, 2), (3, 3), (4, 3), (5, 4), (5, 5)]\n",
            "[(0, 0), (1, 1), (2, 2), (3, 3), (4, 4), (5, 5)]\n"
          ],
          "name": "stdout"
        }
      ]
    },
    {
      "cell_type": "markdown",
      "metadata": {
        "id": "mpV5-tcOKily"
      },
      "source": [
        "**WATER JUG PROBLEM**"
      ]
    },
    {
      "cell_type": "code",
      "metadata": {
        "id": "_YopDg_tLIQw",
        "colab": {
          "base_uri": "https://localhost:8080/"
        },
        "outputId": "430038c0-67fd-4282-863e-da029bcd55a8"
      },
      "source": [
        "# This function is used to initialize the  \n",
        "# dictionary elements with a default value. \n",
        "from collections import defaultdict \n",
        "  \n",
        "# jug1 and jug2 contain the value  \n",
        "# for max capacity in respective jugs  \n",
        "# and aim is the amount of water to be measured.  \n",
        "jug1, jug2, aim = 4, 3, 2\n",
        "  \n",
        "# Initialize dictionary with  \n",
        "# default value as false. \n",
        "visited = defaultdict(lambda: False) \n",
        "  \n",
        "# Recursive function which prints the  \n",
        "# intermediate steps to reach the final  \n",
        "# solution and return boolean value  \n",
        "# (True if solution is possible, otherwise False). \n",
        "# amt1 and amt2 are the amount of water present  \n",
        "# in both jugs at a certain point of time. \n",
        "def waterJugSolver(amt1, amt2):  \n",
        "  \n",
        "    # Checks for our goal and  \n",
        "    # returns true if achieved. \n",
        "    if (amt1 == aim and amt2 == 0) or (amt2 == aim and amt1 == 0): \n",
        "        print(amt1, amt2) \n",
        "        return True\n",
        "      \n",
        "    # Checks if we have already visited the \n",
        "    # combination or not. If not, then it proceeds further. \n",
        "    if visited[(amt1, amt2)] == False: \n",
        "        print(amt1, amt2) \n",
        "      \n",
        "        # Changes the boolean value of \n",
        "        # the combination as it is visited.  \n",
        "        visited[(amt1, amt2)] = True\n",
        "      \n",
        "        # Check for all the 6 possibilities and  \n",
        "        # see if a solution is found in any one of them. \n",
        "        return (waterJugSolver(0, amt2) or\n",
        "                waterJugSolver(amt1, 0) or\n",
        "                waterJugSolver(jug1, amt2) or\n",
        "                waterJugSolver(amt1, jug2) or\n",
        "                waterJugSolver(amt1 + min(amt2, (jug1-amt1)), \n",
        "                amt2 - min(amt2, (jug1-amt1))) or\n",
        "                waterJugSolver(amt1 - min(amt1, (jug2-amt2)), \n",
        "                amt2 + min(amt1, (jug2-amt2)))) \n",
        "      \n",
        "    # Return False if the combination is  \n",
        "    # already visited to avoid repetition otherwise \n",
        "    # recursion will enter an infinite loop. \n",
        "    else: \n",
        "        return False\n",
        "  \n",
        "print(\"Steps: \") \n",
        "  \n",
        "# Call the function and pass the \n",
        "# initial amount of water present in both jugs. \n",
        "waterJugSolver(0, 0) "
      ],
      "execution_count": null,
      "outputs": [
        {
          "output_type": "stream",
          "text": [
            "Steps: \n",
            "0 0\n",
            "4 0\n",
            "4 3\n",
            "0 3\n",
            "3 0\n",
            "3 3\n",
            "4 2\n",
            "0 2\n"
          ],
          "name": "stdout"
        },
        {
          "output_type": "execute_result",
          "data": {
            "text/plain": [
              "True"
            ]
          },
          "metadata": {
            "tags": []
          },
          "execution_count": 1
        }
      ]
    },
    {
      "cell_type": "markdown",
      "metadata": {
        "id": "XliSfJ6-0ws4"
      },
      "source": [
        "# ADVESERIAL SEARCHES"
      ]
    },
    {
      "cell_type": "markdown",
      "metadata": {
        "id": "MzBbKndI07g8"
      },
      "source": [
        "MIN MAX"
      ]
    },
    {
      "cell_type": "code",
      "metadata": {
        "colab": {
          "base_uri": "https://localhost:8080/"
        },
        "id": "vGAwgwYG0-D6",
        "outputId": "47593281-21aa-4491-a362-f46514d34058"
      },
      "source": [
        "import math \n",
        "  \n",
        "def minimax (curDepth, nodeIndex, \n",
        "             maxTurn, scores,  \n",
        "             targetDepth): \n",
        "  \n",
        "    # base case : targetDepth reached \n",
        "    if (curDepth == targetDepth):  \n",
        "        return scores[nodeIndex] \n",
        "      \n",
        "    if (maxTurn): \n",
        "        return max(minimax(curDepth + 1, nodeIndex * 2,  \n",
        "                    False, scores, targetDepth),  \n",
        "                   minimax(curDepth + 1, nodeIndex * 2 + 1,  \n",
        "                    False, scores, targetDepth)) \n",
        "      \n",
        "    else: \n",
        "        return min(minimax(curDepth + 1, nodeIndex * 2,  \n",
        "                     True, scores, targetDepth),  \n",
        "                   minimax(curDepth + 1, nodeIndex * 2 + 1,  \n",
        "                     True, scores, targetDepth)) \n",
        "      \n",
        "# Driver code \n",
        "scores = [3, 5, 2, 9, 12, 5, 23, 23] \n",
        "  \n",
        "treeDepth = math.log(len(scores), 2) \n",
        "  \n",
        "print(\"The optimal value is : \", end = \"\") \n",
        "print(minimax(0, 0, True, scores, treeDepth)) "
      ],
      "execution_count": 1,
      "outputs": [
        {
          "output_type": "stream",
          "text": [
            "The optimal value is : 12\n"
          ],
          "name": "stdout"
        }
      ]
    },
    {
      "cell_type": "markdown",
      "metadata": {
        "id": "tt_gXAJ51DBj"
      },
      "source": [
        "ALPHA BETA PRUNING"
      ]
    },
    {
      "cell_type": "code",
      "metadata": {
        "colab": {
          "base_uri": "https://localhost:8080/"
        },
        "id": "JM_Ya_FG1HnC",
        "outputId": "47026974-0c9d-48e6-ad5b-355121571868"
      },
      "source": [
        "# Initial values of Aplha and Beta  \n",
        "MAX, MIN = 1000, -1000 \n",
        "  \n",
        "# Returns optimal value for current player  \n",
        "#(Initially called for root and maximizer)  \n",
        "def minimax(depth, nodeIndex, maximizingPlayer,  \n",
        "            values, alpha, beta):  \n",
        "   \n",
        "    # Terminating condition. i.e  \n",
        "    # leaf node is reached  \n",
        "    if depth == 3:  \n",
        "        return values[nodeIndex]  \n",
        "  \n",
        "    if maximizingPlayer:  \n",
        "       \n",
        "        best = MIN \n",
        "  \n",
        "        # Recur for left and right children  \n",
        "        for i in range(0, 2):  \n",
        "              \n",
        "            val = minimax(depth + 1, nodeIndex * 2 + i,  \n",
        "                          False, values, alpha, beta)  \n",
        "            best = max(best, val)  \n",
        "            alpha = max(alpha, best)  \n",
        "  \n",
        "            # Alpha Beta Pruning  \n",
        "            if beta <= alpha:  \n",
        "                break \n",
        "           \n",
        "        return best  \n",
        "       \n",
        "    else: \n",
        "        best = MAX \n",
        "  \n",
        "        # Recur for left and  \n",
        "        # right children  \n",
        "        for i in range(0, 2):  \n",
        "           \n",
        "            val = minimax(depth + 1, nodeIndex * 2 + i,  \n",
        "                            True, values, alpha, beta)  \n",
        "            best = min(best, val)  \n",
        "            beta = min(beta, best)  \n",
        "  \n",
        "            # Alpha Beta Pruning  \n",
        "            if beta <= alpha:  \n",
        "                break \n",
        "           \n",
        "        return best  \n",
        "       \n",
        "# Driver Code  \n",
        "if __name__ == \"__main__\":  \n",
        "   \n",
        "    values = [3, 5, 6, 9, 1, 2, 0, -1]   \n",
        "    print(\"The optimal value is :\", minimax(0, 0, True, values, MIN, MAX))  "
      ],
      "execution_count": 2,
      "outputs": [
        {
          "output_type": "stream",
          "text": [
            "The optimal value is : 5\n"
          ],
          "name": "stdout"
        }
      ]
    },
    {
      "cell_type": "markdown",
      "metadata": {
        "id": "MxuErV-o3-0I"
      },
      "source": [
        "MONTY HALL"
      ]
    },
    {
      "cell_type": "code",
      "metadata": {
        "id": "3wUkT4QC4A_E"
      },
      "source": [
        "import numpy as np\n",
        "import matplotlib.pyplot as plt\n",
        "import seaborn as sns\n",
        "\n",
        "# Visualizations\n",
        "%matplotlib inline\n",
        "sns.set_style('darkgrid')"
      ],
      "execution_count": 3,
      "outputs": []
    },
    {
      "cell_type": "code",
      "metadata": {
        "id": "WaR2E-jB4FPF"
      },
      "source": [
        "# containers to house 0 or 1 depending on the outcome\n",
        "stay = []\n",
        "switch = []\n",
        "doors = [1,2,3]\n",
        "\n",
        "# we will consider 10^4 \"environments\" where the contestant either stays or switches\n",
        "environments = range(10**4)\n",
        "for environment in environments:\n",
        "\n",
        "    # randomly assign the Ferrari behind door 1,2, or 3\n",
        "    ferrari_door = np.random.randint(1,4)\n",
        "    \n",
        "    # random assign a guess for the contestant\n",
        "    contestant_guess = np.random.randint(1,4)\n",
        "    \n",
        "    # goat doors are the doors that are not hiding the Ferrari \n",
        "    goat_doors = [door for door in doors if door != ferrari_door]\n",
        "   \n",
        "    # host reveals a goat. Note, if the host has 2 doors to choose from,\n",
        "    # it is because the contestant_guess == ferrari_door\n",
        "    # If the host has only 1 door to choose from, then contestant_guess != ferrari_door\n",
        "    possible_reveal_doors = [door for door in goat_doors if door != contestant_guess]\n",
        "    if len(possible_reveal_doors) == 2:\n",
        "        reveal_door = np.random.choice(possible_reveal_doors)\n",
        "    else:\n",
        "        reveal_door = possible_reveal_doors[0]\n",
        "       \n",
        "    # Define the door that the contest would switch to\n",
        "    # We only care about the sole element of this list\n",
        "    switch_door = [door for door in doors if door != contestant_guess and door != reveal_door][0]\n",
        "\n",
        "    # Let's record the results of our model over 10^4 switching or staying outcomes\n",
        "    if ferrari_door == switch_door:\n",
        "        switch.append(1)\n",
        "        stay.append(0)\n",
        "    else:\n",
        "        switch.append(0)\n",
        "        stay.append(1)"
      ],
      "execution_count": 4,
      "outputs": []
    },
    {
      "cell_type": "code",
      "metadata": {
        "colab": {
          "base_uri": "https://localhost:8080/"
        },
        "id": "BzPmOfS94K76",
        "outputId": "e4d176c7-5491-48de-e1e9-be20d412db96"
      },
      "source": [
        "# Probabilities\n",
        "prob_win_switch = np.mean(switch)\n",
        "prob_win_stay = np.mean(stay)\n",
        "print(f\"Probability of Winning if Switch: {prob_win_switch : 0.2%}\")\n",
        "print(f\"Probability of Winning if Stay: {prob_win_stay : 0.2%}\")"
      ],
      "execution_count": 5,
      "outputs": [
        {
          "output_type": "stream",
          "text": [
            "Probability of Winning if Switch:  66.24%\n",
            "Probability of Winning if Stay:  33.76%\n"
          ],
          "name": "stdout"
        }
      ]
    }
  ]
}